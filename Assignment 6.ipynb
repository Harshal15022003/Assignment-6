{
 "cells": [
  {
   "cell_type": "code",
   "execution_count": 2,
   "id": "c3bc674b-c2f8-4068-8cde-371f5311cfbf",
   "metadata": {},
   "outputs": [],
   "source": [
    "#Question 1\n",
    "#Why might you choose a deque from the collections module to implement a queue instead of using a \n",
    "#regular Python list?"
   ]
  },
  {
   "cell_type": "code",
   "execution_count": 4,
   "id": "d0f931fd-e06e-459c-b4b6-5a0042d76036",
   "metadata": {},
   "outputs": [],
   "source": [
    "#Answer 1\n",
    "#Using a deque from the collections module to implement a queue instead of a regular Python list offers several advantages:\n",
    "\n",
    "#Advantage 1\n",
    "#deque provides efficient append() and popleft() operations, both of which are \n",
    "#𝑂\n",
    "#(\n",
    "#1\n",
    "#)\n",
    "#O(1) operations. Appending and popping from the left end of a deque are faster compared to the equivalent operations on a list, especially for large queues.\n",
    "\n",
    "#Advantage 2\n",
    "#If you're working with a multithreaded environment where multiple threads might access the queue simultaneously, deque is preferred because it provides atomic operations. This helps avoid race conditions.\n",
    "\n",
    "#Advantage 3\n",
    "#deque is implemented as a doubly-linked list, which can be more memory efficient than a regular list, especially when dealing with a large number of elements. Lists may have to resize occasionally, which involves allocating new memory and copying elements.\n"
   ]
  },
  {
   "cell_type": "code",
   "execution_count": 5,
   "id": "abdf8754-15bb-4a44-84b8-dbe20effb4b6",
   "metadata": {},
   "outputs": [],
   "source": [
    "#Question 2\n",
    "# Can you explain a real-world scenario where using a stack would be a more practical choice than a list for \n",
    "# data storage and retrieval?"
   ]
  },
  {
   "cell_type": "code",
   "execution_count": 6,
   "id": "b40f2287-2d07-404b-be5a-9b5b74f90fbb",
   "metadata": {},
   "outputs": [],
   "source": [
    "#Answer 2\n",
    "#Suppose a user types \"Hello\", then deletes a word, and finally formats a paragraph. These actions are pushed onto the stack in the order they occur. When the user triggers \"Undo\", the application pops the most recent action from the stack and performs the reverse operation."
   ]
  },
  {
   "cell_type": "code",
   "execution_count": 7,
   "id": "f6e829bd-263d-4172-950f-107ff1be938a",
   "metadata": {},
   "outputs": [],
   "source": [
    "#Question 3\n",
    "#What is the primary advantage of using sets in Python, and in what type of problem-solving scenarios are \n",
    "#they most useful?"
   ]
  },
  {
   "cell_type": "code",
   "execution_count": 8,
   "id": "0d011705-9170-404c-99fd-50fe2a32ff13",
   "metadata": {},
   "outputs": [],
   "source": [
    "#Answer 3\n",
    "#Advantage 1\n",
    "#Sets only store unique elements. If you try to add the same element multiple times, it will only be stored once. This property is useful when dealing with collections of unique items."
   ]
  },
  {
   "cell_type": "code",
   "execution_count": 9,
   "id": "d115ad0f-73fb-4343-b872-e189972d204f",
   "metadata": {},
   "outputs": [],
   "source": [
    "#Advantage 2\n",
    "#Sets offer average-case time complexity for membership testing (checking if an element is present), making them very efficient for this operation, especially for large datasets."
   ]
  },
  {
   "cell_type": "code",
   "execution_count": 10,
   "id": "d08b5981-1f16-436c-acd3-17a76042de2b",
   "metadata": {},
   "outputs": [],
   "source": [
    "#Advantage 3\n",
    "#Sets support various set operations like union, intersection, difference, and symmetric difference. These operations can be performed efficiently, which is useful in many problem-solving scenarios.\n"
   ]
  },
  {
   "cell_type": "code",
   "execution_count": 11,
   "id": "a5ed1f46-f665-4d1a-aeb3-45f1480fedea",
   "metadata": {},
   "outputs": [],
   "source": [
    "#Question 4\n",
    "#When might you choose to use an array instead of a list for storing numerical data in Python? What \n",
    "#benefits do arrays offer in this context?\n",
    "\n",
    "\n",
    "\n"
   ]
  },
  {
   "cell_type": "code",
   "execution_count": 12,
   "id": "51ac3ad8-1a63-4a46-a761-dfb0663ee894",
   "metadata": {},
   "outputs": [],
   "source": [
    "#Answer 4\n",
    "#benifit 1\n",
    "#Arrays typically use less memory compared to lists because they store homogeneous data types. Lists in Python can store elements of different types, which may lead to memory overhead. Arrays store elements of the same type, resulting in more memory-efficient storage, especially for large numerical datasets."
   ]
  },
  {
   "cell_type": "code",
   "execution_count": 13,
   "id": "54d9a2f9-4bb9-420e-a91f-f222ac6aa0d4",
   "metadata": {},
   "outputs": [],
   "source": [
    "#benifit 2\n",
    "#Arrays provide faster numerical operations compared to lists, especially when using numerical libraries like NumPy. NumPy arrays are optimized for numerical computations and provide vectorized operations, which are much faster than iterating over elements in a list."
   ]
  },
  {
   "cell_type": "code",
   "execution_count": 14,
   "id": "05636886-abe7-4fce-9407-1254ef9bccfb",
   "metadata": {},
   "outputs": [],
   "source": [
    "#benifit 3\n",
    "#Arrays allocate memory in a contiguous block, which leads to better memory locality and cache utilization. This can result in faster access times compared to lists, especially for large datasets."
   ]
  },
  {
   "cell_type": "code",
   "execution_count": 15,
   "id": "d2e0a6ad-0216-4e81-babf-5f6fbc8c806c",
   "metadata": {},
   "outputs": [],
   "source": [
    "#Question 5\n",
    "# In Python, what's the primary difference between dictionaries and lists, and how does this difference \n",
    "#impact their use cases in programming?"
   ]
  },
  {
   "cell_type": "code",
   "execution_count": null,
   "id": "fdf7e0cc-edad-4395-bee3-28d8640db48e",
   "metadata": {},
   "outputs": [],
   "source": [
    "#Answer 5\n",
    "#lists\n",
    "#Lists are ordered collections of elements. Each element is indexed by an integer, starting from 0.\n",
    "#Lists are mutable, meaning you can modify, add, or remove elements after creation.\n",
    "#Elements in a list are accessed by their index.\n",
    "\n",
    "\n",
    "#dictionary\n",
    "#Dictionaries store data in key-value pairs, where each element is associated with a unique key.\n",
    "#Dictionaries are mutable, allowing you to add, modify, or delete key-value pairs.\n",
    "#Elements in a dictionary are accessed using their keys, not by index.\n"
   ]
  }
 ],
 "metadata": {
  "kernelspec": {
   "display_name": "Python 3 (ipykernel)",
   "language": "python",
   "name": "python3"
  },
  "language_info": {
   "codemirror_mode": {
    "name": "ipython",
    "version": 3
   },
   "file_extension": ".py",
   "mimetype": "text/x-python",
   "name": "python",
   "nbconvert_exporter": "python",
   "pygments_lexer": "ipython3",
   "version": "3.10.8"
  }
 },
 "nbformat": 4,
 "nbformat_minor": 5
}
